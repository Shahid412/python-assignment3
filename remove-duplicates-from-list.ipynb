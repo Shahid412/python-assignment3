{
 "cells": [
  {
   "cell_type": "code",
   "execution_count": 1,
   "metadata": {},
   "outputs": [],
   "source": [
    "# I - Program to remove duplicates from a list of names"
   ]
  },
  {
   "cell_type": "code",
   "execution_count": 2,
   "metadata": {},
   "outputs": [
    {
     "name": "stdout",
     "output_type": "stream",
     "text": [
      "Enter name : goat\n",
      "Enter name : hen\n",
      "Enter name : tiger\n",
      "Enter name : hen\n",
      "Enter name : beer\n",
      "Enter name : tiger\n",
      "Enter name : \n",
      "Original names are:  ['goat', 'hen', 'tiger', 'hen', 'beer', 'tiger']\n",
      "Names after removing duplicates : ['goat', 'hen', 'tiger', 'beer']\n"
     ]
    }
   ],
   "source": [
    "names=[]\n",
    "while True:\n",
    "    x = input(\"Enter name : \")\n",
    "    if x==\"\":break\n",
    "    #print(\"Age is \", x)\n",
    "    names.append(x)\n",
    "print(\"Original names are: \", names)\n",
    "\n",
    "singles = []\n",
    "for i in names:\n",
    "    if i not in singles:\n",
    "        singles.append(i)\n",
    "print (\"Names after removing duplicates : \" + str(singles))"
   ]
  },
  {
   "cell_type": "code",
   "execution_count": null,
   "metadata": {},
   "outputs": [],
   "source": []
  }
 ],
 "metadata": {
  "kernelspec": {
   "display_name": "Python 3",
   "language": "python",
   "name": "python3"
  },
  "language_info": {
   "codemirror_mode": {
    "name": "ipython",
    "version": 3
   },
   "file_extension": ".py",
   "mimetype": "text/x-python",
   "name": "python",
   "nbconvert_exporter": "python",
   "pygments_lexer": "ipython3",
   "version": "3.7.4"
  }
 },
 "nbformat": 4,
 "nbformat_minor": 2
}
