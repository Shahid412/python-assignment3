{
 "cells": [
  {
   "cell_type": "code",
   "execution_count": 1,
   "metadata": {},
   "outputs": [],
   "source": [
    "# IV - Program to read/write files to complete the song "
   ]
  },
  {
   "cell_type": "code",
   "execution_count": 4,
   "metadata": {},
   "outputs": [
    {
     "name": "stdout",
     "output_type": "stream",
     "text": [
      "Imagine there's no countries\n",
      "It isn't hard to do\n",
      "Nothing to kill or die for\n",
      "And no religion, too\n",
      "Imagine all the people\n",
      "Living life in peace\n",
      "You, you may say I'm a dreamer\n",
      "But I'm not the only one\n",
      "I hope someday you will join us\n",
      "And the world will be as one\n",
      "Imagine no possessions\n",
      "I wonder if you can\n",
      "No need for greed or hunger\n",
      "A brotherhood of man\n",
      "Imagine all the people\n",
      "Sharing all the world\n",
      "You, you may say I'm a dreamer\n",
      "But I'm not the only one\n",
      "I hope someday you will join us\n",
      "And the world will live as one\n"
     ]
    }
   ],
   "source": [
    "f1=open(\"file1.txt\")\n",
    "f2=open(\"file2.txt\")\n",
    "d1=f1.read()\n",
    "d2=f2.read()\n",
    "d3=d1+d2\n",
    "print(d3)\n",
    "f3=open(\"file3.txt\",\"w\")\n",
    "f3.write(d3)\n",
    "\n",
    "f1.close()\n",
    "f2.close()\n",
    "f3.close()"
   ]
  },
  {
   "cell_type": "code",
   "execution_count": null,
   "metadata": {},
   "outputs": [],
   "source": []
  }
 ],
 "metadata": {
  "kernelspec": {
   "display_name": "Python 3",
   "language": "python",
   "name": "python3"
  },
  "language_info": {
   "codemirror_mode": {
    "name": "ipython",
    "version": 3
   },
   "file_extension": ".py",
   "mimetype": "text/x-python",
   "name": "python",
   "nbconvert_exporter": "python",
   "pygments_lexer": "ipython3",
   "version": "3.7.4"
  }
 },
 "nbformat": 4,
 "nbformat_minor": 2
}
